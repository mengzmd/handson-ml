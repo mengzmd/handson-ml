{
  "nbformat": 4,
  "nbformat_minor": 0,
  "metadata": {
    "kernelspec": {
      "display_name": "Python 3",
      "language": "python",
      "name": "python3"
    },
    "language_info": {
      "codemirror_mode": {
        "name": "ipython",
        "version": 3
      },
      "file_extension": ".py",
      "mimetype": "text/x-python",
      "name": "python",
      "nbconvert_exporter": "python",
      "pygments_lexer": "ipython3",
      "version": "3.7.10"
    },
    "colab": {
      "name": "extra_capsnets.ipynb",
      "provenance": []
    },
    "accelerator": "GPU"
  },
  "cells": [
    {
      "cell_type": "markdown",
      "metadata": {
        "id": "jsRiyccwUht5"
      },
      "source": [
        "**Capsule Networks (CapsNets)**"
      ]
    },
    {
      "cell_type": "markdown",
      "metadata": {
        "id": "e8qdPuq5Uht9"
      },
      "source": [
        "*Based on the paper: [Dynamic Routing Between Capsules](https://arxiv.org/abs/1710.09829), by Sara Sabour, Nicholas Frosst and Geoffrey E. Hinton (NIPS 2017).*"
      ]
    },
    {
      "cell_type": "markdown",
      "metadata": {
        "id": "rBsMEhHlUht9"
      },
      "source": [
        "*Inspired in part from Huadong Liao's implementation: [CapsNet-TensorFlow](https://github.com/naturomics/CapsNet-Tensorflow).*"
      ]
    },
    {
      "cell_type": "markdown",
      "metadata": {
        "id": "VVFWepAIUht9"
      },
      "source": [
        "<table align=\"left\">\n",
        "  <td>\n",
        "    <a target=\"_blank\" href=\"https://colab.research.google.com/github/ageron/handson-ml/blob/master/extra_capsnets.ipynb\"><img src=\"https://www.tensorflow.org/images/colab_logo_32px.png\" />Run in Google Colab</a>\n",
        "  </td>\n",
        "</table>"
      ]
    },
    {
      "cell_type": "markdown",
      "metadata": {
        "id": "mGkvX5miUht-"
      },
      "source": [
        "**Warning**: this is the code for the 1st edition of the book. Please visit https://github.com/ageron/handson-ml2 for the 2nd edition code, with up-to-date notebooks using the latest library versions. In particular, the 1st edition is based on TensorFlow 1, while the 2nd edition uses TensorFlow 2, which is much simpler to use."
      ]
    },
    {
      "cell_type": "markdown",
      "metadata": {
        "id": "S8DGXYmkUht-"
      },
      "source": [
        "# Introduction"
      ]
    },
    {
      "cell_type": "markdown",
      "metadata": {
        "id": "ZMTzbBbkUht-"
      },
      "source": [
        "Watch [this video](https://youtu.be/pPN8d0E3900) to understand the key ideas behind Capsule Networks:"
      ]
    },
    {
      "cell_type": "code",
      "metadata": {
        "id": "RlG-kX2gUht_",
        "outputId": "d081e54c-cacb-4e74-9164-3e2e2669c7b3"
      },
      "source": [
        "from IPython.display import IFrame\n",
        "IFrame(src=\"https://www.youtube.com/embed/pPN8d0E3900\", width=560, height=315, frameborder=0, allowfullscreen=True)"
      ],
      "execution_count": null,
      "outputs": [
        {
          "data": {
            "text/html": [
              "<iframe width=\"560\" height=\"315\" src=\"https://www.youtube.com/embed/pPN8d0E3900\" frameborder=\"0\" allowfullscreen></iframe>"
            ],
            "text/plain": [
              "<IPython.core.display.HTML object>"
            ]
          },
          "execution_count": 1,
          "metadata": {},
          "output_type": "execute_result"
        }
      ]
    },
    {
      "cell_type": "markdown",
      "metadata": {
        "id": "tYL6V1p3UhuA"
      },
      "source": [
        "You may also want to watch [this video](https://youtu.be/2Kawrd5szHE), which presents the main difficulties in this notebook:"
      ]
    },
    {
      "cell_type": "code",
      "metadata": {
        "id": "ecXw55C5UhuB",
        "outputId": "3732d8f1-9ff9-4aa0-da19-607cffe58018"
      },
      "source": [
        "IFrame(src=\"https://www.youtube.com/embed/2Kawrd5szHE\", width=560, height=315, frameborder=0, allowfullscreen=True)"
      ],
      "execution_count": null,
      "outputs": [
        {
          "data": {
            "text/html": [
              "<iframe width=\"560\" height=\"315\" src=\"https://www.youtube.com/embed/2Kawrd5szHE\" frameborder=\"0\" allowfullscreen></iframe>"
            ],
            "text/plain": [
              "<IPython.core.display.HTML object>"
            ]
          },
          "execution_count": 2,
          "metadata": {},
          "output_type": "execute_result"
        }
      ]
    },
    {
      "cell_type": "markdown",
      "metadata": {
        "id": "DJJu5ACcUhuB"
      },
      "source": [
        "# Imports"
      ]
    },
    {
      "cell_type": "markdown",
      "metadata": {
        "id": "X_nK1YsRUhuC"
      },
      "source": [
        "To support both Python 2 and Python 3:"
      ]
    },
    {
      "cell_type": "code",
      "metadata": {
        "id": "OWq1pCPQUhuC"
      },
      "source": [
        "from __future__ import division, print_function, unicode_literals"
      ],
      "execution_count": 1,
      "outputs": []
    },
    {
      "cell_type": "markdown",
      "metadata": {
        "id": "jeCsW6HhUhuC"
      },
      "source": [
        "To plot pretty figures:"
      ]
    },
    {
      "cell_type": "code",
      "metadata": {
        "id": "Ns73dn5KUhuC"
      },
      "source": [
        "%matplotlib inline\n",
        "import matplotlib\n",
        "import matplotlib.pyplot as plt"
      ],
      "execution_count": 2,
      "outputs": []
    },
    {
      "cell_type": "markdown",
      "metadata": {
        "id": "yi-XTI0BUhuD"
      },
      "source": [
        "We will need NumPy and TensorFlow:"
      ]
    },
    {
      "cell_type": "code",
      "metadata": {
        "id": "oprz5m9OUhuD",
        "outputId": "117de886-0f38-4f0d-b2cc-deade974774c",
        "colab": {
          "base_uri": "https://localhost:8080/"
        }
      },
      "source": [
        "try:\n",
        "    # %tensorflow_version only exists in Colab.\n",
        "    %tensorflow_version 1.x\n",
        "except Exception:\n",
        "    pass\n",
        "\n",
        "import numpy as np\n",
        "import tensorflow as tf\n",
        "print(tf.__version__)\n",
        "%tensorflow_version 1.x"
      ],
      "execution_count": 3,
      "outputs": [
        {
          "output_type": "stream",
          "name": "stdout",
          "text": [
            "TensorFlow 1.x selected.\n",
            "1.15.2\n"
          ]
        }
      ]
    },
    {
      "cell_type": "markdown",
      "metadata": {
        "id": "3fp-KirhUhuD"
      },
      "source": [
        "# Reproducibility"
      ]
    },
    {
      "cell_type": "markdown",
      "metadata": {
        "id": "QsFrBL-QUhuD"
      },
      "source": [
        "Let's reset the default graph, in case you re-run this notebook without restarting the kernel:"
      ]
    },
    {
      "cell_type": "code",
      "metadata": {
        "id": "BkQOu_EPUhuD"
      },
      "source": [
        "tf.reset_default_graph()"
      ],
      "execution_count": 4,
      "outputs": []
    },
    {
      "cell_type": "markdown",
      "metadata": {
        "id": "th-QxbAFUhuE"
      },
      "source": [
        "Let's set the random seeds so that this notebook always produces the same output:"
      ]
    },
    {
      "cell_type": "code",
      "metadata": {
        "id": "GISWJHUSUhuE"
      },
      "source": [
        "np.random.seed(42)\n",
        "tf.set_random_seed(42)"
      ],
      "execution_count": 5,
      "outputs": []
    },
    {
      "cell_type": "markdown",
      "metadata": {
        "id": "H-jGzLH9UhuE"
      },
      "source": [
        "# Load MNIST"
      ]
    },
    {
      "cell_type": "markdown",
      "metadata": {
        "id": "npIO-T5rUhuE"
      },
      "source": [
        "Yes, I know, it's MNIST again. But hopefully this powerful idea will work as well on larger datasets, time will tell."
      ]
    },
    {
      "cell_type": "code",
      "metadata": {
        "id": "tyIJvyV0UhuE",
        "outputId": "c7b95bc7-5a0b-4463-ad8c-cceeb6ff8300",
        "colab": {
          "base_uri": "https://localhost:8080/"
        }
      },
      "source": [
        "from tensorflow.examples.tutorials.mnist import input_data\n",
        "\n",
        "mnist = input_data.read_data_sets(\"/tmp/data/\")"
      ],
      "execution_count": 6,
      "outputs": [
        {
          "output_type": "stream",
          "name": "stdout",
          "text": [
            "WARNING:tensorflow:From <ipython-input-6-4141630e56b4>:3: read_data_sets (from tensorflow.contrib.learn.python.learn.datasets.mnist) is deprecated and will be removed in a future version.\n",
            "Instructions for updating:\n",
            "Please use alternatives such as official/mnist/dataset.py from tensorflow/models.\n",
            "WARNING:tensorflow:From /tensorflow-1.15.2/python3.7/tensorflow_core/contrib/learn/python/learn/datasets/mnist.py:260: maybe_download (from tensorflow.contrib.learn.python.learn.datasets.base) is deprecated and will be removed in a future version.\n",
            "Instructions for updating:\n",
            "Please write your own downloading logic.\n",
            "WARNING:tensorflow:From /tensorflow-1.15.2/python3.7/tensorflow_core/contrib/learn/python/learn/datasets/base.py:252: _internal_retry.<locals>.wrap.<locals>.wrapped_fn (from tensorflow.contrib.learn.python.learn.datasets.base) is deprecated and will be removed in a future version.\n",
            "Instructions for updating:\n",
            "Please use urllib or similar directly.\n",
            "Successfully downloaded train-images-idx3-ubyte.gz 9912422 bytes.\n",
            "WARNING:tensorflow:From /tensorflow-1.15.2/python3.7/tensorflow_core/contrib/learn/python/learn/datasets/mnist.py:262: extract_images (from tensorflow.contrib.learn.python.learn.datasets.mnist) is deprecated and will be removed in a future version.\n",
            "Instructions for updating:\n",
            "Please use tf.data to implement this functionality.\n",
            "Extracting /tmp/data/train-images-idx3-ubyte.gz\n",
            "Successfully downloaded train-labels-idx1-ubyte.gz 28881 bytes.\n",
            "WARNING:tensorflow:From /tensorflow-1.15.2/python3.7/tensorflow_core/contrib/learn/python/learn/datasets/mnist.py:267: extract_labels (from tensorflow.contrib.learn.python.learn.datasets.mnist) is deprecated and will be removed in a future version.\n",
            "Instructions for updating:\n",
            "Please use tf.data to implement this functionality.\n",
            "Extracting /tmp/data/train-labels-idx1-ubyte.gz\n",
            "Successfully downloaded t10k-images-idx3-ubyte.gz 1648877 bytes.\n",
            "Extracting /tmp/data/t10k-images-idx3-ubyte.gz\n",
            "Successfully downloaded t10k-labels-idx1-ubyte.gz 4542 bytes.\n",
            "Extracting /tmp/data/t10k-labels-idx1-ubyte.gz\n",
            "WARNING:tensorflow:From /tensorflow-1.15.2/python3.7/tensorflow_core/contrib/learn/python/learn/datasets/mnist.py:290: DataSet.__init__ (from tensorflow.contrib.learn.python.learn.datasets.mnist) is deprecated and will be removed in a future version.\n",
            "Instructions for updating:\n",
            "Please use alternatives such as official/mnist/dataset.py from tensorflow/models.\n"
          ]
        }
      ]
    },
    {
      "cell_type": "markdown",
      "metadata": {
        "id": "FCNSWjiPUhuE"
      },
      "source": [
        "Let's look at what these hand-written digit images look like:"
      ]
    },
    {
      "cell_type": "code",
      "metadata": {
        "id": "IWQspNVVUhuF",
        "outputId": "1a15ec16-1424-41ca-9f18-0daa79e90c9d",
        "colab": {
          "base_uri": "https://localhost:8080/",
          "height": 127
        }
      },
      "source": [
        "n_samples = 5\n",
        "\n",
        "plt.figure(figsize=(n_samples * 2, 3))\n",
        "for index in range(n_samples):\n",
        "    plt.subplot(1, n_samples, index + 1)\n",
        "    sample_image = mnist.train.images[index].reshape(28, 28)\n",
        "    plt.imshow(sample_image, cmap=\"binary\")\n",
        "    plt.axis(\"off\")\n",
        "\n",
        "plt.show()"
      ],
      "execution_count": 7,
      "outputs": [
        {
          "output_type": "display_data",
          "data": {
            "image/png": "[encoded data removed]",
            "text/plain": [
              "<Figure size 720x216 with 5 Axes>"
            ]
          },
          "metadata": {
            "needs_background": "light"
          }
        }
      ]
    },
    {
      "cell_type": "markdown",
      "metadata": {
        "id": "ykgK1mvrUhuF"
      },
      "source": [
        "And these are the corresponding labels:"
      ]
    },
    {
      "cell_type": "code",
      "metadata": {
        "id": "G-6SS4siUhuF",
        "outputId": "02f9aea1-da03-4a98-ed1c-a3663e2c1df8",
        "colab": {
          "base_uri": "https://localhost:8080/"
        }
      },
      "source": [
        "mnist.train.labels[:n_samples]"
      ],
      "execution_count": 8,
      "outputs": [
        {
          "output_type": "execute_result",
          "data": {
            "text/plain": [
              "array([7, 3, 4, 6, 1], dtype=uint8)"
            ]
          },
          "metadata": {},
          "execution_count": 8
        }
      ]
    },
    {
      "cell_type": "markdown",
      "metadata": {
        "id": "VP4mEsxFUhuF"
      },
      "source": [
        "Now let's build a Capsule Network to classify these images. Here's the overall architecture, enjoy the ASCII art! ;-)\n",
        "Note: for readability, I left out two arrows: Labels → Mask, and Input Images → Reconstruction Loss."
      ]
    },
    {
      "cell_type": "markdown",
      "metadata": {
        "id": "u1uVV_bxUhuF"
      },
      "source": [
        "```\n",
        "                            Loss\n",
        "                              ↑\n",
        "                    ┌─────────┴─────────┐\n",
        "      Labels → Margin Loss      Reconstruction Loss\n",
        "                    ↑                   ↑\n",
        "                  Length             Decoder\n",
        "                    ↑                   ↑ \n",
        "             Digit Capsules ────Mask────┘\n",
        "               ↖↑↗ ↖↑↗ ↖↑↗\n",
        "             Primary Capsules\n",
        "                    ↑      \n",
        "               Input Images\n",
        "```"
      ]
    },
    {
      "cell_type": "markdown",
      "metadata": {
        "id": "tCNryvEvUhuG"
      },
      "source": [
        "We are going to build the graph starting from the bottom layer, and gradually move up, left side first. Let's go!"
      ]
    },
    {
      "cell_type": "markdown",
      "metadata": {
        "id": "MfOvGIwDUhuG"
      },
      "source": [
        "# Input Images"
      ]
    },
    {
      "cell_type": "markdown",
      "metadata": {
        "id": "r2PIJ2VdUhuG"
      },
      "source": [
        "Let's start by creating a placeholder for the input images (28×28 pixels, 1 color channel = grayscale)."
      ]
    },
    {
      "cell_type": "code",
      "metadata": {
        "id": "PC7xzJs2UhuG"
      },
      "source": [
        "X = tf.placeholder(shape=[None, 28, 28, 1], dtype=tf.float32, name=\"X\")"
      ],
      "execution_count": 9,
      "outputs": []
    },
    {
      "cell_type": "markdown",
      "metadata": {
        "id": "8UkMZ_xtUhuG"
      },
      "source": [
        "# Primary Capsules"
      ]
    },
    {
      "cell_type": "markdown",
      "metadata": {
        "id": "z9EO4ugMUhuH"
      },
      "source": [
        "The first layer will be composed of 32 maps of 6×6 capsules each, where each capsule will output an 8D activation vector:"
      ]
    },
    {
      "cell_type": "code",
      "metadata": {
        "id": "lChO439aUhuH"
      },
      "source": [
        "caps1_n_maps = 32\n",
        "caps1_n_caps = caps1_n_maps * 6 * 6  # 1152 primary capsules\n",
        "caps1_n_dims = 8"
      ],
      "execution_count": 10,
      "outputs": []
    },
    {
      "cell_type": "markdown",
      "metadata": {
        "id": "pgye6RM8UhuH"
      },
      "source": [
        "To compute their outputs, we first apply two regular convolutional layers:"
      ]
    },
    {
      "cell_type": "code",
      "metadata": {
        "id": "NOnfK2PLUhuH"
      },
      "source": [
        "conv1_params = {\n",
        "    \"filters\": 256,\n",
        "    \"kernel_size\": 9,\n",
        "    \"strides\": 1,\n",
        "    \"padding\": \"valid\",\n",
        "    \"activation\": tf.nn.relu,\n",
        "}\n",
        "\n",
        "conv2_params = {\n",
        "    \"filters\": caps1_n_maps * caps1_n_dims, # 256 convolutional filters\n",
        "    \"kernel_size\": 9,\n",
        "    \"strides\": 2,\n",
        "    \"padding\": \"valid\",\n",
        "    \"activation\": tf.nn.relu\n",
        "}"
      ],
      "execution_count": 11,
      "outputs": []
    },
    {
      "cell_type": "code",
      "metadata": {
        "id": "5eQ1MqgzUhuH",
        "outputId": "aa58f04f-921e-4919-a94b-0b6240d7ede2",
        "colab": {
          "base_uri": "https://localhost:8080/"
        }
      },
      "source": [
        "conv1 = tf.layers.conv2d(X, name=\"conv1\", **conv1_params)\n",
        "conv2 = tf.layers.conv2d(conv1, name=\"conv2\", **conv2_params)"
      ],
      "execution_count": 12,
      "outputs": [
        {
          "output_type": "stream",
          "name": "stdout",
          "text": [
            "WARNING:tensorflow:From <ipython-input-12-3a2df923b7cc>:1: conv2d (from tensorflow.python.layers.convolutional) is deprecated and will be removed in a future version.\n",
            "Instructions for updating:\n",
            "Use `tf.keras.layers.Conv2D` instead.\n",
            "WARNING:tensorflow:From /tensorflow-1.15.2/python3.7/tensorflow_core/python/layers/convolutional.py:424: Layer.apply (from tensorflow.python.keras.engine.base_layer) is deprecated and will be removed in a future version.\n",
            "Instructions for updating:\n",
            "Please use `layer.__call__` method instead.\n"
          ]
        }
      ]
    },
    {
      "cell_type": "markdown",
      "metadata": {
        "id": "MmjUA34cUhuH"
      },
      "source": [
        "Note: since we used a kernel size of 9 and no padding (for some reason, that's what `\"valid\"` means), the image shrunk by 9-1=8 pixels after each convolutional layer (28×28 to 20×20, then 20×20 to 12×12), and since we used a stride of 2 in the second convolutional layer, the image size was divided by 2. This is how we end up with 6×6 feature maps."
      ]
    },
    {
      "cell_type": "markdown",
      "metadata": {
        "id": "Dznjky_uUhuI"
      },
      "source": [
        "Next, we reshape the output to get a bunch of 8D vectors representing the outputs of the primary capsules. The output of `conv2` is an array containing 32×8=256 feature maps for each instance, where each feature map is 6×6. So the shape of this output is (_batch size_, 6, 6, 256). We want to chop the 256 into 32 vectors of 8 dimensions each. We could do this by reshaping to (_batch size_, 6, 6, 32, 8). However, since this first capsule layer will be fully connected to the next capsule layer, we can simply flatten the 6×6 grids. This means we just need to reshape to (_batch size_, 6×6×32, 8)."
      ]
    },
    {
      "cell_type": "code",
      "metadata": {
        "id": "Bb9tOn5kUhuI"
      },
      "source": [
        "caps1_raw = tf.reshape(conv2, [-1, caps1_n_caps, caps1_n_dims],\n",
        "                       name=\"caps1_raw\")"
      ],
      "execution_count": 13,
      "outputs": []
    },
    {
      "cell_type": "markdown",
      "metadata": {
        "id": "3TYRC4ZVUhuI"
      },
      "source": [
        "Now we need to squash these vectors. Let's define the `squash()` function, based on equation (1) from the paper:\n",
        "\n",
        "$\\operatorname{squash}(\\mathbf{s}) = \\dfrac{\\|\\mathbf{s}\\|^2}{1 + \\|\\mathbf{s}\\|^2} \\dfrac{\\mathbf{s}}{\\|\\mathbf{s}\\|}$\n",
        "\n",
        "The `squash()` function will squash all vectors in the given array, along the given axis (by default, the last axis).\n",
        "\n",
        "**Caution**, a nasty bug is waiting to bite you: the derivative of $\\|\\mathbf{s}\\|$ is undefined when $\\|\\mathbf{s}\\|=0$, so we can't just use `tf.norm()`, or else it will blow up during training: if a vector is zero, the gradients will be `nan`, so when the optimizer updates the variables, they will also become `nan`, and from then on you will be stuck in `nan` land. The solution is to implement the norm manually by computing the square root of the sum of squares plus a tiny epsilon value: $\\|\\mathbf{s}\\| \\approx \\sqrt{\\sum\\limits_i{{s_i}^2}\\,\\,+ \\epsilon}$."
      ]
    },
    {
      "cell_type": "code",
      "metadata": {
        "id": "pgF4fBJ1UhuI"
      },
      "source": [
        "def squash(s, axis=-1, epsilon=1e-7, name=None):\n",
        "    with tf.name_scope(name, default_name=\"squash\"):\n",
        "        squared_norm = tf.reduce_sum(tf.square(s), axis=axis,\n",
        "                                     keep_dims=True)\n",
        "        safe_norm = tf.sqrt(squared_norm + epsilon)\n",
        "        squash_factor = 1 - 1 / exp(safe_norm)\n",
        "        unit_vector = s / safe_norm\n",
        "        return squash_factor * unit_vector\n",
        "        "
      ],
      "execution_count": 81,
      "outputs": []
    },
    {
      "cell_type": "markdown",
      "metadata": {
        "id": "iRvoQIU4UhuI"
      },
      "source": [
        "Now let's apply this function to get the output $\\mathbf{u}_i$ of each primary capsules $i$ :"
      ]
    },
    {
      "cell_type": "code",
      "metadata": {
        "id": "954VReLqUhuI",
        "outputId": "9ab2d577-ed83-49ef-bc57-c2ae52ea3922",
        "colab": {
          "base_uri": "https://localhost:8080/",
          "height": 300
        }
      },
      "source": [
        "caps1_output = squash(caps1_raw, name=\"caps1_output\")"
      ],
      "execution_count": 82,
      "outputs": [
        {
          "output_type": "error",
          "ename": "NameError",
          "evalue": "ignored",
          "traceback": [
            "\u001b[0;31m---------------------------------------------------------------------------\u001b[0m",
            "\u001b[0;31mNameError\u001b[0m                                 Traceback (most recent call last)",
            "\u001b[0;32m<ipython-input-82-ae4169f62132>\u001b[0m in \u001b[0;36m<module>\u001b[0;34m()\u001b[0m\n\u001b[0;32m----> 1\u001b[0;31m \u001b[0mcaps1_output\u001b[0m \u001b[0;34m=\u001b[0m \u001b[0msquash\u001b[0m\u001b[0;34m(\u001b[0m\u001b[0mcaps1_raw\u001b[0m\u001b[0;34m,\u001b[0m \u001b[0mname\u001b[0m\u001b[0;34m=\u001b[0m\u001b[0;34m\"caps1_output\"\u001b[0m\u001b[0;34m)\u001b[0m\u001b[0;34m\u001b[0m\u001b[0;34m\u001b[0m\u001b[0m\n\u001b[0m",
            "\u001b[0;32m<ipython-input-81-cba64f9d7dac>\u001b[0m in \u001b[0;36msquash\u001b[0;34m(s, axis, epsilon, name)\u001b[0m\n\u001b[1;32m      4\u001b[0m                                      keep_dims=True)\n\u001b[1;32m      5\u001b[0m         \u001b[0msafe_norm\u001b[0m \u001b[0;34m=\u001b[0m \u001b[0mtf\u001b[0m\u001b[0;34m.\u001b[0m\u001b[0msqrt\u001b[0m\u001b[0;34m(\u001b[0m\u001b[0msquared_norm\u001b[0m \u001b[0;34m+\u001b[0m \u001b[0mepsilon\u001b[0m\u001b[0;34m)\u001b[0m\u001b[0;34m\u001b[0m\u001b[0;34m\u001b[0m\u001b[0m\n\u001b[0;32m----> 6\u001b[0;31m         \u001b[0msquash_factor\u001b[0m \u001b[0;34m=\u001b[0m \u001b[0;36m1\u001b[0m \u001b[0;34m-\u001b[0m \u001b[0;36m1\u001b[0m \u001b[0;34m/\u001b[0m \u001b[0mexp\u001b[0m\u001b[0;34m(\u001b[0m\u001b[0msafe_norm\u001b[0m\u001b[0;34m)\u001b[0m\u001b[0;34m\u001b[0m\u001b[0;34m\u001b[0m\u001b[0m\n\u001b[0m\u001b[1;32m      7\u001b[0m         \u001b[0munit_vector\u001b[0m \u001b[0;34m=\u001b[0m \u001b[0ms\u001b[0m \u001b[0;34m/\u001b[0m \u001b[0msafe_norm\u001b[0m\u001b[0;34m\u001b[0m\u001b[0;34m\u001b[0m\u001b[0m\n\u001b[1;32m      8\u001b[0m         \u001b[0;32mreturn\u001b[0m \u001b[0msquash_factor\u001b[0m \u001b[0;34m*\u001b[0m \u001b[0munit_vector\u001b[0m\u001b[0;34m\u001b[0m\u001b[0;34m\u001b[0m\u001b[0m\n",
            "\u001b[0;31mNameError\u001b[0m: name 'exp' is not defined"
          ]
        }
      ]
    },
    {
      "cell_type": "markdown",
      "metadata": {
        "id": "asZVQyCXUhuI"
      },
      "source": [
        "Great! We have the output of the first capsule layer. It wasn't too hard, was it? However, computing the next layer is where the fun really begins."
      ]
    },
    {
      "cell_type": "markdown",
      "metadata": {
        "id": "u2xBBy2_UhuI"
      },
      "source": [
        "# Digit Capsules"
      ]
    },
    {
      "cell_type": "markdown",
      "metadata": {
        "id": "DBgeRg_lUhuI"
      },
      "source": [
        "To compute the output of the digit capsules, we must first compute the predicted output vectors (one for each primary / digit capsule pair). Then we can run the routing by agreement algorithm."
      ]
    },
    {
      "cell_type": "markdown",
      "metadata": {
        "id": "Ci6Z0pAjUhuI"
      },
      "source": [
        "## Compute the Predicted Output Vectors"
      ]
    },
    {
      "cell_type": "markdown",
      "metadata": {
        "id": "LiCx3fwqUhuJ"
      },
      "source": [
        "The digit capsule layer contains 10 capsules (one for each digit) of 16 dimensions each:"
      ]
    },
    {
      "cell_type": "code",
      "metadata": {
        "id": "TliUdFR7UhuJ"
      },
      "source": [
        "caps2_n_caps = 10\n",
        "caps2_n_dims = 16"
      ],
      "execution_count": null,
      "outputs": []
    },
    {
      "cell_type": "markdown",
      "metadata": {
        "id": "Gzt7SJfzUhuJ"
      },
      "source": [
        "For each capsule $i$ in the first layer, we want to predict the output of every capsule $j$ in the second layer. For this, we will need a transformation matrix $\\mathbf{W}_{i,j}$ (one for each pair of capsules ($i$, $j$)), then we can compute the predicted output $\\hat{\\mathbf{u}}_{j|i} = \\mathbf{W}_{i,j} \\, \\mathbf{u}_i$ (equation (2)-right in the paper). Since we want to transform an 8D vector into a 16D vector, each transformation matrix $\\mathbf{W}_{i,j}$ must have a shape of (16, 8)."
      ]
    },
    {
      "cell_type": "markdown",
      "metadata": {
        "id": "Hl4dqlmBUhuJ"
      },
      "source": [
        "To compute $\\hat{\\mathbf{u}}_{j|i}$ for every pair of capsules ($i$, $j$), we will use a nice feature of the `tf.matmul()` function: you probably know that it lets you multiply two matrices, but you may not know that it also lets you multiply higher dimensional arrays. It treats the arrays as arrays of matrices, and it performs itemwise matrix multiplication. For example, suppose you have two 4D arrays, each containing a 2×3 grid of matrices. The first contains matrices $\\mathbf{A}, \\mathbf{B}, \\mathbf{C}, \\mathbf{D}, \\mathbf{E}, \\mathbf{F}$ and the second contains matrices $\\mathbf{G}, \\mathbf{H}, \\mathbf{I}, \\mathbf{J}, \\mathbf{K}, \\mathbf{L}$. If you multiply these two 4D arrays using the `tf.matmul()` function, this is what you get:\n",
        "\n",
        "$\n",
        "\\pmatrix{\n",
        "\\mathbf{A} & \\mathbf{B} & \\mathbf{C} \\\\\n",
        "\\mathbf{D} & \\mathbf{E} & \\mathbf{F}\n",
        "} \\times\n",
        "\\pmatrix{\n",
        "\\mathbf{G} & \\mathbf{H} & \\mathbf{I} \\\\\n",
        "\\mathbf{J} & \\mathbf{K} & \\mathbf{L}\n",
        "} = \\pmatrix{\n",
        "\\mathbf{AG} & \\mathbf{BH} & \\mathbf{CI} \\\\\n",
        "\\mathbf{DJ} & \\mathbf{EK} & \\mathbf{FL}\n",
        "}\n",
        "$"
      ]
    },
    {
      "cell_type": "markdown",
      "metadata": {
        "id": "Hf7Lk0PXUhuJ"
      },
      "source": [
        "We can apply this function to compute $\\hat{\\mathbf{u}}_{j|i}$ for every pair of capsules ($i$, $j$) like this (recall that there are 6×6×32=1152 capsules in the first layer, and 10 in the second layer):\n",
        "\n",
        "$\n",
        "\\pmatrix{\n",
        "  \\mathbf{W}_{1,1} & \\mathbf{W}_{1,2} & \\cdots & \\mathbf{W}_{1,10} \\\\\n",
        "  \\mathbf{W}_{2,1} & \\mathbf{W}_{2,2} & \\cdots & \\mathbf{W}_{2,10} \\\\\n",
        "  \\vdots & \\vdots & \\ddots & \\vdots \\\\\n",
        "  \\mathbf{W}_{1152,1} & \\mathbf{W}_{1152,2} & \\cdots & \\mathbf{W}_{1152,10}\n",
        "} \\times\n",
        "\\pmatrix{\n",
        "  \\mathbf{u}_1 & \\mathbf{u}_1 & \\cdots & \\mathbf{u}_1 \\\\\n",
        "  \\mathbf{u}_2 & \\mathbf{u}_2 & \\cdots & \\mathbf{u}_2 \\\\\n",
        "  \\vdots & \\vdots & \\ddots & \\vdots \\\\\n",
        "  \\mathbf{u}_{1152} & \\mathbf{u}_{1152} & \\cdots & \\mathbf{u}_{1152}\n",
        "}\n",
        "=\n",
        "\\pmatrix{\n",
        "\\hat{\\mathbf{u}}_{1|1} & \\hat{\\mathbf{u}}_{2|1} & \\cdots & \\hat{\\mathbf{u}}_{10|1} \\\\\n",
        "\\hat{\\mathbf{u}}_{1|2} & \\hat{\\mathbf{u}}_{2|2} & \\cdots & \\hat{\\mathbf{u}}_{10|2} \\\\\n",
        "\\vdots & \\vdots & \\ddots & \\vdots \\\\\n",
        "\\hat{\\mathbf{u}}_{1|1152} & \\hat{\\mathbf{u}}_{2|1152} & \\cdots & \\hat{\\mathbf{u}}_{10|1152}\n",
        "}\n",
        "$\n"
      ]
    },
    {
      "cell_type": "markdown",
      "metadata": {
        "id": "LLDbsNzVUhuJ"
      },
      "source": [
        "The shape of the first array is (1152, 10, 16, 8), and the shape of the second array is (1152, 10, 8, 1). Note that the second array must contain 10 identical copies of the vectors $\\mathbf{u}_1$ to $\\mathbf{u}_{1152}$. To create this array, we will use the handy `tf.tile()` function, which lets you create an array containing many copies of a base array, tiled in any way you want."
      ]
    },
    {
      "cell_type": "markdown",
      "metadata": {
        "id": "i-AkTOgOUhuK"
      },
      "source": [
        "Oh, wait a second! We forgot one dimension: _batch size_. Say we feed 50 images to the capsule network, it will make predictions for these 50 images simultaneously. So the shape of the first array must be (50, 1152, 10, 16, 8), and the shape of the second array must be (50, 1152, 10, 8, 1). The first layer capsules actually already output predictions for all 50 images, so the second array will be fine, but for the first array, we will need to use `tf.tile()` to have 50 copies of the transformation matrices."
      ]
    },
    {
      "cell_type": "markdown",
      "metadata": {
        "id": "3LJuMO4HUhuK"
      },
      "source": [
        "Okay, let's start by creating a trainable variable of shape (1, 1152, 10, 16, 8) that will hold all the transformation matrices. The first dimension of size 1 will make this array easy to tile. We initialize this variable randomly using a normal distribution with a standard deviation to 0.1."
      ]
    },
    {
      "cell_type": "code",
      "metadata": {
        "id": "rx22FwEEUhuK"
      },
      "source": [
        "init_sigma = 0.1\n",
        "\n",
        "W_init = tf.random_normal(\n",
        "    shape=(1, caps1_n_caps, caps2_n_caps, caps2_n_dims, caps1_n_dims),\n",
        "    stddev=init_sigma, dtype=tf.float32, name=\"W_init\")\n",
        "W = tf.Variable(W_init, name=\"W\")"
      ],
      "execution_count": null,
      "outputs": []
    },
    {
      "cell_type": "markdown",
      "metadata": {
        "id": "dElmSa40UhuK"
      },
      "source": [
        "Now we can create the first array by repeating `W` once per instance:"
      ]
    },
    {
      "cell_type": "code",
      "metadata": {
        "id": "gJwUb51fUhuK"
      },
      "source": [
        "batch_size = tf.shape(X)[0]\n",
        "W_tiled = tf.tile(W, [batch_size, 1, 1, 1, 1], name=\"W_tiled\")"
      ],
      "execution_count": null,
      "outputs": []
    },
    {
      "cell_type": "markdown",
      "metadata": {
        "id": "L7_cV1FoUhuK"
      },
      "source": [
        "That's it! On to the second array, now. As discussed earlier, we need to create an array of shape (_batch size_, 1152, 10, 8, 1), containing the output of the first layer capsules, repeated 10 times (once per digit, along the third dimension, which is axis=2). The `caps1_output` array has a shape of (_batch size_, 1152, 8), so we first need to expand it twice, to get an array of shape (_batch size_, 1152, 1, 8, 1), then we can repeat it 10 times along the third dimension:"
      ]
    },
    {
      "cell_type": "code",
      "metadata": {
        "id": "kzX0fU_8UhuK"
      },
      "source": [
        "caps1_output_expanded = tf.expand_dims(caps1_output, -1,\n",
        "                                       name=\"caps1_output_expanded\")\n",
        "caps1_output_tile = tf.expand_dims(caps1_output_expanded, 2,\n",
        "                                   name=\"caps1_output_tile\")\n",
        "caps1_output_tiled = tf.tile(caps1_output_tile, [1, 1, caps2_n_caps, 1, 1],\n",
        "                             name=\"caps1_output_tiled\")"
      ],
      "execution_count": null,
      "outputs": []
    },
    {
      "cell_type": "markdown",
      "metadata": {
        "id": "U7OruyAUUhuL"
      },
      "source": [
        "Let's check the shape of the first array:"
      ]
    },
    {
      "cell_type": "code",
      "metadata": {
        "id": "N6FiFHGSUhuL"
      },
      "source": [
        "W_tiled"
      ],
      "execution_count": null,
      "outputs": []
    },
    {
      "cell_type": "markdown",
      "metadata": {
        "id": "Md1E0UmgUhuL"
      },
      "source": [
        "Good, and now the second:"
      ]
    },
    {
      "cell_type": "code",
      "metadata": {
        "id": "fOZILGRjUhuL"
      },
      "source": [
        "caps1_output_tiled"
      ],
      "execution_count": null,
      "outputs": []
    },
    {
      "cell_type": "markdown",
      "metadata": {
        "id": "H8y8kw4WUhuL"
      },
      "source": [
        "Yes! Now, to get all the predicted output vectors $\\hat{\\mathbf{u}}_{j|i}$, we just need to multiply these two arrays using `tf.matmul()`, as explained earlier: "
      ]
    },
    {
      "cell_type": "code",
      "metadata": {
        "id": "xrlMhZr7UhuL"
      },
      "source": [
        "caps2_predicted = tf.matmul(W_tiled, caps1_output_tiled,\n",
        "                            name=\"caps2_predicted\")"
      ],
      "execution_count": null,
      "outputs": []
    },
    {
      "cell_type": "markdown",
      "metadata": {
        "id": "YQw6Xr47UhuL"
      },
      "source": [
        "Let's check the shape:"
      ]
    },
    {
      "cell_type": "code",
      "metadata": {
        "id": "f3EJN2PxUhuL"
      },
      "source": [
        "caps2_predicted"
      ],
      "execution_count": null,
      "outputs": []
    },
    {
      "cell_type": "markdown",
      "metadata": {
        "id": "LZf_H5aAUhuM"
      },
      "source": [
        "Perfect, for each instance in the batch (we don't know the batch size yet, hence the \"?\") and for each pair of first and second layer capsules (1152×10) we have a 16D predicted output column vector (16×1). We're ready to apply the routing by agreement algorithm!"
      ]
    },
    {
      "cell_type": "markdown",
      "metadata": {
        "id": "zzJC6BpMUhuM"
      },
      "source": [
        "## Routing by agreement"
      ]
    },
    {
      "cell_type": "markdown",
      "metadata": {
        "id": "9kNPXWoyUhuM"
      },
      "source": [
        "First let's initialize the raw routing weights $b_{i,j}$ to zero:"
      ]
    },
    {
      "cell_type": "code",
      "metadata": {
        "id": "UnUBk_eqUhuM"
      },
      "source": [
        "raw_weights = tf.zeros([batch_size, caps1_n_caps, caps2_n_caps, 1, 1],\n",
        "                       dtype=np.float32, name=\"raw_weights\")"
      ],
      "execution_count": null,
      "outputs": []
    },
    {
      "cell_type": "markdown",
      "metadata": {
        "id": "KTblM7iZUhuM"
      },
      "source": [
        "We will see why we need the last two dimensions of size 1 in a minute."
      ]
    },
    {
      "cell_type": "markdown",
      "metadata": {
        "id": "bCdOQeimUhuM"
      },
      "source": [
        "### Round 1"
      ]
    },
    {
      "cell_type": "markdown",
      "metadata": {
        "id": "xtQWAZa-UhuM"
      },
      "source": [
        "First, let's apply the softmax function to compute the routing weights, $\\mathbf{c}_{i} = \\operatorname{softmax}(\\mathbf{b}_i)$ (equation (3) in the paper):"
      ]
    },
    {
      "cell_type": "code",
      "metadata": {
        "id": "Vxxd5CnGUhuM"
      },
      "source": [
        "routing_weights = tf.nn.softmax(raw_weights, dim=2, name=\"routing_weights\")"
      ],
      "execution_count": null,
      "outputs": []
    },
    {
      "cell_type": "markdown",
      "metadata": {
        "id": "-9q9wXZDUhuM"
      },
      "source": [
        "Now let's compute the weighted sum of all the predicted output vectors for each second-layer capsule, $\\mathbf{s}_j = \\sum\\limits_{i}{c_{i,j}\\hat{\\mathbf{u}}_{j|i}}$ (equation (2)-left in the paper):"
      ]
    },
    {
      "cell_type": "code",
      "metadata": {
        "id": "m0wlFmgbUhuN"
      },
      "source": [
        "weighted_predictions = tf.multiply(routing_weights, caps2_predicted,\n",
        "                                   name=\"weighted_predictions\")\n",
        "weighted_sum = tf.reduce_sum(weighted_predictions, axis=1, keep_dims=True,\n",
        "                             name=\"weighted_sum\")"
      ],
      "execution_count": null,
      "outputs": []
    },
    {
      "cell_type": "markdown",
      "metadata": {
        "id": "6QUF0jJJUhuN"
      },
      "source": [
        "There are a couple important details to note here:\n",
        "* To perform elementwise matrix multiplication (also called the Hadamard product, noted $\\circ$), we use the `tf.multiply()` function. It requires `routing_weights` and `caps2_predicted` to have the same rank, which is why we added two extra dimensions of size 1 to `routing_weights`, earlier.\n",
        "* The shape of `routing_weights` is (_batch size_, 1152, 10, 1, 1) while the shape of `caps2_predicted` is (_batch size_, 1152, 10, 16, 1).  Since they don't match on the fourth dimension (1 _vs_ 16), `tf.multiply()` automatically _broadcasts_ the `routing_weights` 16 times along that dimension. If you are not familiar with broadcasting, a simple example might help:\n",
        "\n",
        "  $ \\pmatrix{1 & 2 & 3 \\\\ 4 & 5 & 6} \\circ \\pmatrix{10 & 100 & 1000} = \\pmatrix{1 & 2 & 3 \\\\ 4 & 5 & 6} \\circ \\pmatrix{10 & 100 & 1000 \\\\ 10 & 100 & 1000} = \\pmatrix{10 & 200 & 3000 \\\\ 40 & 500 & 6000} $"
      ]
    },
    {
      "cell_type": "markdown",
      "metadata": {
        "id": "Mq3W2Ji-UhuN"
      },
      "source": [
        "And finally, let's apply the squash function to get the outputs of the second layer capsules at the end of the first iteration of the routing by agreement algorithm, $\\mathbf{v}_j = \\operatorname{squash}(\\mathbf{s}_j)$ :"
      ]
    },
    {
      "cell_type": "code",
      "metadata": {
        "id": "bhyWhjc9UhuN"
      },
      "source": [
        "caps2_output_round_1 = squash(weighted_sum, axis=-2,\n",
        "                              name=\"caps2_output_round_1\")"
      ],
      "execution_count": null,
      "outputs": []
    },
    {
      "cell_type": "code",
      "metadata": {
        "id": "cuAYNuHBUhuN"
      },
      "source": [
        "caps2_output_round_1"
      ],
      "execution_count": null,
      "outputs": []
    },
    {
      "cell_type": "markdown",
      "metadata": {
        "id": "Fh4wBp4NUhuN"
      },
      "source": [
        "Good! We have ten 16D output vectors for each instance, as expected."
      ]
    },
    {
      "cell_type": "markdown",
      "metadata": {
        "id": "SFeCG2weUhuN"
      },
      "source": [
        "### Round 2"
      ]
    },
    {
      "cell_type": "markdown",
      "metadata": {
        "id": "05JSGX8DUhuN"
      },
      "source": [
        "First, let's measure how close each predicted vector $\\hat{\\mathbf{u}}_{j|i}$ is to the actual output vector $\\mathbf{v}_j$ by computing their scalar product $\\hat{\\mathbf{u}}_{j|i} \\cdot \\mathbf{v}_j$."
      ]
    },
    {
      "cell_type": "markdown",
      "metadata": {
        "id": "njLkP87GUhuN"
      },
      "source": [
        "* Quick math reminder: if $\\vec{a}$ and $\\vec{b}$ are two vectors of equal length, and $\\mathbf{a}$ and $\\mathbf{b}$ are their corresponding column vectors (i.e., matrices with a single column), then $\\mathbf{a}^T \\mathbf{b}$ (i.e., the matrix multiplication of the transpose of $\\mathbf{a}$, and $\\mathbf{b}$) is a 1×1 matrix containing the scalar product of the two vectors $\\vec{a}\\cdot\\vec{b}$. In Machine Learning, we generally represent vectors as column vectors, so when we talk about computing the scalar product $\\hat{\\mathbf{u}}_{j|i} \\cdot \\mathbf{v}_j$, this actually means computing ${\\hat{\\mathbf{u}}_{j|i}}^T \\mathbf{v}_j$."
      ]
    },
    {
      "cell_type": "markdown",
      "metadata": {
        "id": "fztKkCP0UhuN"
      },
      "source": [
        "Since we need to compute the scalar product $\\hat{\\mathbf{u}}_{j|i} \\cdot \\mathbf{v}_j$ for each instance, and for each pair of first and second level capsules $(i, j)$, we will once again take advantage of the fact that `tf.matmul()` can multiply many matrices simultaneously. This will require playing around with `tf.tile()` to get all dimensions to match (except for the last 2), just like we did earlier. So let's look at the shape of `caps2_predicted`, which holds all the predicted output vectors $\\hat{\\mathbf{u}}_{j|i}$ for each instance and each pair of capsules:"
      ]
    },
    {
      "cell_type": "code",
      "metadata": {
        "id": "y-aWBRKlUhuO"
      },
      "source": [
        "caps2_predicted"
      ],
      "execution_count": null,
      "outputs": []
    },
    {
      "cell_type": "markdown",
      "metadata": {
        "id": "_fI_nUyMUhuO"
      },
      "source": [
        "And now let's look at the shape of `caps2_output_round_1`, which holds 10 outputs vectors of 16D each, for each instance:"
      ]
    },
    {
      "cell_type": "code",
      "metadata": {
        "id": "iti5G4OaUhuO"
      },
      "source": [
        "caps2_output_round_1"
      ],
      "execution_count": null,
      "outputs": []
    },
    {
      "cell_type": "markdown",
      "metadata": {
        "id": "QPFV35TxUhuO"
      },
      "source": [
        "To get these shapes to match, we just need to tile the `caps2_output_round_1` array 1152 times (once per primary capsule) along the second dimension:"
      ]
    },
    {
      "cell_type": "code",
      "metadata": {
        "id": "8bp1Pp0jUhuO"
      },
      "source": [
        "caps2_output_round_1_tiled = tf.tile(\n",
        "    caps2_output_round_1, [1, caps1_n_caps, 1, 1, 1],\n",
        "    name=\"caps2_output_round_1_tiled\")"
      ],
      "execution_count": null,
      "outputs": []
    },
    {
      "cell_type": "markdown",
      "metadata": {
        "id": "_e42GoyBUhuO"
      },
      "source": [
        "And now we are ready to call `tf.matmul()` (note that we must tell it to transpose the matrices in the first array, to get ${\\hat{\\mathbf{u}}_{j|i}}^T$ instead of $\\hat{\\mathbf{u}}_{j|i}$):"
      ]
    },
    {
      "cell_type": "code",
      "metadata": {
        "id": "tV845igfUhuO"
      },
      "source": [
        "agreement = tf.matmul(caps2_predicted, caps2_output_round_1_tiled,\n",
        "                      transpose_a=True, name=\"agreement\")"
      ],
      "execution_count": null,
      "outputs": []
    },
    {
      "cell_type": "markdown",
      "metadata": {
        "id": "Kbn_mcneUhuO"
      },
      "source": [
        "We can now update the raw routing weights $b_{i,j}$ by simply adding the scalar product $\\hat{\\mathbf{u}}_{j|i} \\cdot \\mathbf{v}_j$ we just computed: $b_{i,j} \\gets b_{i,j} + \\hat{\\mathbf{u}}_{j|i} \\cdot \\mathbf{v}_j$ (see Procedure 1, step 7, in the paper)."
      ]
    },
    {
      "cell_type": "code",
      "metadata": {
        "id": "dRrIcZ79UhuP"
      },
      "source": [
        "raw_weights_round_2 = tf.add(raw_weights, agreement,\n",
        "                             name=\"raw_weights_round_2\")"
      ],
      "execution_count": null,
      "outputs": []
    },
    {
      "cell_type": "markdown",
      "metadata": {
        "id": "CgtU0MmdUhuP"
      },
      "source": [
        "The rest of round 2 is the same as in round 1:"
      ]
    },
    {
      "cell_type": "code",
      "metadata": {
        "id": "vzauopRmUhuP"
      },
      "source": [
        "routing_weights_round_2 = tf.nn.softmax(raw_weights_round_2,\n",
        "                                        dim=2,\n",
        "                                        name=\"routing_weights_round_2\")\n",
        "weighted_predictions_round_2 = tf.multiply(routing_weights_round_2,\n",
        "                                           caps2_predicted,\n",
        "                                           name=\"weighted_predictions_round_2\")\n",
        "weighted_sum_round_2 = tf.reduce_sum(weighted_predictions_round_2,\n",
        "                                     axis=1, keep_dims=True,\n",
        "                                     name=\"weighted_sum_round_2\")\n",
        "caps2_output_round_2 = squash(weighted_sum_round_2,\n",
        "                              axis=-2,\n",
        "                              name=\"caps2_output_round_2\")"
      ],
      "execution_count": null,
      "outputs": []
    },
    {
      "cell_type": "markdown",
      "metadata": {
        "id": "UvMTtxgeUhuQ"
      },
      "source": [
        "We could go on for a few more rounds, by repeating exactly the same steps as in round 2, but to keep things short, we will stop here:"
      ]
    },
    {
      "cell_type": "code",
      "metadata": {
        "id": "bDOHN01mUhuQ"
      },
      "source": [
        "caps2_output = caps2_output_round_2"
      ],
      "execution_count": null,
      "outputs": []
    },
    {
      "cell_type": "markdown",
      "metadata": {
        "id": "K5QB5DMxUhuQ"
      },
      "source": [
        "### Static or Dynamic Loop?"
      ]
    },
    {
      "cell_type": "markdown",
      "metadata": {
        "id": "8DfvnJTGUhuQ"
      },
      "source": [
        "In the code above, we created different operations in the TensorFlow graph for each round of the routing by agreement algorithm. In other words, it's a static loop.\n",
        "\n",
        "Sure, instead of copy/pasting the code several times, we could have written a `for` loop in Python, but this would not change the fact that the graph would end up containing different operations for each routing iteration. It's actually okay since we generally want less than 5 routing iterations, so the graph won't grow too big.\n",
        "\n",
        "However, you may prefer to implement the routing loop within the TensorFlow graph itself rather than using a Python `for` loop. To do this, you would need to use TensorFlow's `tf.while_loop()` function. This way, all routing iterations would reuse the same operations in the graph, it would be a dynamic loop.\n",
        "\n",
        "For example, here is how to build a small loop that computes the sum of squares from 1 to 100:"
      ]
    },
    {
      "cell_type": "code",
      "metadata": {
        "id": "UotdvRBrUhuQ"
      },
      "source": [
        "def condition(input, counter):\n",
        "    return tf.less(counter, 100)\n",
        "\n",
        "def loop_body(input, counter):\n",
        "    output = tf.add(input, tf.square(counter))\n",
        "    return output, tf.add(counter, 1)\n",
        "\n",
        "with tf.name_scope(\"compute_sum_of_squares\"):\n",
        "    counter = tf.constant(1)\n",
        "    sum_of_squares = tf.constant(0)\n",
        "\n",
        "    result = tf.while_loop(condition, loop_body, [sum_of_squares, counter])\n",
        "    \n",
        "\n",
        "with tf.Session() as sess:\n",
        "    print(sess.run(result))"
      ],
      "execution_count": null,
      "outputs": []
    },
    {
      "cell_type": "markdown",
      "metadata": {
        "id": "7LUcWhwrUhuQ"
      },
      "source": [
        "As you can see, the `tf.while_loop()` function expects the loop condition and body to be provided _via_ two functions. These functions will be called only once by TensorFlow, during the graph construction phase, _not_ while executing the graph. The `tf.while_loop()` function stitches together the graph fragments created by `condition()` and `loop_body()` with some additional operations to create the loop.\n",
        "\n",
        "Also note that during training, TensorFlow will automagically handle backpropogation through the loop, so you don't need to worry about that."
      ]
    },
    {
      "cell_type": "markdown",
      "metadata": {
        "id": "4sKYyZkCUhuR"
      },
      "source": [
        "Of course, we could have used this one-liner instead! ;-)"
      ]
    },
    {
      "cell_type": "code",
      "metadata": {
        "id": "X3nTaTrYUhuR"
      },
      "source": [
        "sum([i**2 for i in range(1, 100 + 1)])"
      ],
      "execution_count": null,
      "outputs": []
    },
    {
      "cell_type": "markdown",
      "metadata": {
        "id": "ttHrc3V7UhuR"
      },
      "source": [
        "Joke aside, apart from reducing the graph size, using a dynamic loop instead of a static loop can help reduce how much GPU RAM you use (if you are using a GPU). Indeed, if you set `swap_memory=True` when calling the `tf.while_loop()` function, TensorFlow will automatically check GPU RAM usage at each loop iteration, and it will take care of swapping memory between the GPU and the CPU when needed. Since CPU memory is much cheaper and abundant than GPU RAM, this can really make a big difference."
      ]
    },
    {
      "cell_type": "markdown",
      "metadata": {
        "id": "JgbE4DXiUhuR"
      },
      "source": [
        "# Estimated Class Probabilities (Length)"
      ]
    },
    {
      "cell_type": "markdown",
      "metadata": {
        "id": "iOrBRY_9UhuR"
      },
      "source": [
        "The lengths of the output vectors represent the class probabilities, so we could just use `tf.norm()` to compute them, but as we saw when discussing the squash function, it would be risky, so instead let's create our own `safe_norm()` function:"
      ]
    },
    {
      "cell_type": "code",
      "metadata": {
        "id": "sq7P1DPQUhuR"
      },
      "source": [
        "def safe_norm(s, axis=-1, epsilon=1e-7, keep_dims=False, name=None):\n",
        "    with tf.name_scope(name, default_name=\"safe_norm\"):\n",
        "        squared_norm = tf.reduce_sum(tf.square(s), axis=axis,\n",
        "                                     keep_dims=keep_dims)\n",
        "        return tf.sqrt(squared_norm + epsilon)"
      ],
      "execution_count": null,
      "outputs": []
    },
    {
      "cell_type": "code",
      "metadata": {
        "id": "P5X31Co7UhuR"
      },
      "source": [
        "y_proba = safe_norm(caps2_output, axis=-2, name=\"y_proba\")"
      ],
      "execution_count": null,
      "outputs": []
    },
    {
      "cell_type": "markdown",
      "metadata": {
        "id": "TJWktkFoUhuR"
      },
      "source": [
        "To predict the class of each instance, we can just select the one with the highest estimated probability. To do this, let's start by finding its index using `tf.argmax()`:"
      ]
    },
    {
      "cell_type": "code",
      "metadata": {
        "id": "VHv4mQdFUhuR"
      },
      "source": [
        "y_proba_argmax = tf.argmax(y_proba, axis=2, name=\"y_proba\")"
      ],
      "execution_count": null,
      "outputs": []
    },
    {
      "cell_type": "markdown",
      "metadata": {
        "id": "nyeJeZjNUhuS"
      },
      "source": [
        "Let's look at the shape of `y_proba_argmax`:"
      ]
    },
    {
      "cell_type": "code",
      "metadata": {
        "id": "uYstypdZUhuS"
      },
      "source": [
        "y_proba_argmax"
      ],
      "execution_count": null,
      "outputs": []
    },
    {
      "cell_type": "markdown",
      "metadata": {
        "id": "AvD6IaJoUhuS"
      },
      "source": [
        "That's what we wanted: for each instance, we now have the index of the longest output vector. Let's get rid of the last two dimensions by using `tf.squeeze()` which removes dimensions of size 1. This gives us the capsule network's predicted class for each instance:"
      ]
    },
    {
      "cell_type": "code",
      "metadata": {
        "id": "YTY2Q7IXUhuS"
      },
      "source": [
        "y_pred = tf.squeeze(y_proba_argmax, axis=[1,2], name=\"y_pred\")"
      ],
      "execution_count": null,
      "outputs": []
    },
    {
      "cell_type": "code",
      "metadata": {
        "id": "64TLLS5vUhuS"
      },
      "source": [
        "y_pred"
      ],
      "execution_count": null,
      "outputs": []
    },
    {
      "cell_type": "markdown",
      "metadata": {
        "id": "Se6AU_ufUhuS"
      },
      "source": [
        "Okay, we are now ready to define the training operations, starting with the losses."
      ]
    },
    {
      "cell_type": "markdown",
      "metadata": {
        "id": "Lgw-alNBUhuS"
      },
      "source": [
        "# Labels"
      ]
    },
    {
      "cell_type": "markdown",
      "metadata": {
        "id": "XRmcpnbLUhuS"
      },
      "source": [
        "First, we will need a placeholder for the labels:"
      ]
    },
    {
      "cell_type": "code",
      "metadata": {
        "id": "smGzIOyXUhuT"
      },
      "source": [
        "y = tf.placeholder(shape=[None], dtype=tf.int64, name=\"y\")"
      ],
      "execution_count": null,
      "outputs": []
    },
    {
      "cell_type": "markdown",
      "metadata": {
        "id": "CCqCYmVZUhuT"
      },
      "source": [
        "# Margin loss"
      ]
    },
    {
      "cell_type": "markdown",
      "metadata": {
        "id": "WMUMRoyXUhuT"
      },
      "source": [
        "The paper uses a special margin loss to make it possible to detect two or more different digits in each image:\n",
        "\n",
        "$ L_k = T_k \\max(0, m^{+} - \\|\\mathbf{v}_k\\|)^2 + \\lambda (1 - T_k) \\max(0, \\|\\mathbf{v}_k\\| - m^{-})^2$\n",
        "\n",
        "* $T_k$ is equal to 1 if the digit of class $k$ is present, or 0 otherwise.\n",
        "* In the paper, $m^{+} = 0.9$, $m^{-} = 0.1$ and $\\lambda = 0.5$.\n",
        "* Note that there was an error in the video (at 15:47): the max operations are squared, not the norms. Sorry about that."
      ]
    },
    {
      "cell_type": "code",
      "metadata": {
        "id": "tMgzMP2bUhuT"
      },
      "source": [
        "m_plus = 0.9\n",
        "m_minus = 0.1\n",
        "lambda_ = 0.5"
      ],
      "execution_count": null,
      "outputs": []
    },
    {
      "cell_type": "markdown",
      "metadata": {
        "id": "Tf0a7mooUhuT"
      },
      "source": [
        "Since `y` will contain the digit classes, from 0 to 9, to get $T_k$ for every instance and every class, we can just use the `tf.one_hot()` function:"
      ]
    },
    {
      "cell_type": "code",
      "metadata": {
        "id": "-4Y7YKFTUhuT"
      },
      "source": [
        "T = tf.one_hot(y, depth=caps2_n_caps, name=\"T\")"
      ],
      "execution_count": null,
      "outputs": []
    },
    {
      "cell_type": "markdown",
      "metadata": {
        "id": "huFH1fvBUhuT"
      },
      "source": [
        "A small example should make it clear what this does:"
      ]
    },
    {
      "cell_type": "code",
      "metadata": {
        "id": "LDKwlrBIUhuT"
      },
      "source": [
        "with tf.Session():\n",
        "    print(T.eval(feed_dict={y: np.array([0, 1, 2, 3, 9])}))"
      ],
      "execution_count": null,
      "outputs": []
    },
    {
      "cell_type": "markdown",
      "metadata": {
        "id": "sPN2znx7UhuT"
      },
      "source": [
        "Now let's compute the norm of the output vector for each output capsule and each instance. First, let's verify the shape of `caps2_output`:"
      ]
    },
    {
      "cell_type": "code",
      "metadata": {
        "id": "c7_SCbInUhuU"
      },
      "source": [
        "caps2_output"
      ],
      "execution_count": null,
      "outputs": []
    },
    {
      "cell_type": "markdown",
      "metadata": {
        "id": "fiSPgq3qUhuU"
      },
      "source": [
        "The 16D output vectors are in the second to last dimension, so let's use the `safe_norm()` function with `axis=-2`:"
      ]
    },
    {
      "cell_type": "code",
      "metadata": {
        "id": "yyOVR7HMUhuU"
      },
      "source": [
        "caps2_output_norm = safe_norm(caps2_output, axis=-2, keep_dims=True,\n",
        "                              name=\"caps2_output_norm\")"
      ],
      "execution_count": null,
      "outputs": []
    },
    {
      "cell_type": "markdown",
      "metadata": {
        "id": "xmsy-DtIUhuU"
      },
      "source": [
        "Now let's compute $\\max(0, m^{+} - \\|\\mathbf{v}_k\\|)^2$, and reshape the result to get a simple matrix of shape (_batch size_, 10):"
      ]
    },
    {
      "cell_type": "code",
      "metadata": {
        "id": "-0QrU_XQUhuU"
      },
      "source": [
        "present_error_raw = tf.square(tf.maximum(0., m_plus - caps2_output_norm),\n",
        "                              name=\"present_error_raw\")\n",
        "present_error = tf.reshape(present_error_raw, shape=(-1, 10),\n",
        "                           name=\"present_error\")"
      ],
      "execution_count": null,
      "outputs": []
    },
    {
      "cell_type": "markdown",
      "metadata": {
        "id": "qaVBvF1aUhuU"
      },
      "source": [
        "Next let's compute $\\max(0, \\|\\mathbf{v}_k\\| - m^{-})^2$ and reshape it:"
      ]
    },
    {
      "cell_type": "code",
      "metadata": {
        "id": "jRzUbAjkUhuU"
      },
      "source": [
        "absent_error_raw = tf.square(tf.maximum(0., caps2_output_norm - m_minus),\n",
        "                             name=\"absent_error_raw\")\n",
        "absent_error = tf.reshape(absent_error_raw, shape=(-1, 10),\n",
        "                          name=\"absent_error\")"
      ],
      "execution_count": null,
      "outputs": []
    },
    {
      "cell_type": "markdown",
      "metadata": {
        "id": "91Fhr16fUhuU"
      },
      "source": [
        "We are ready to compute the loss for each instance and each digit:"
      ]
    },
    {
      "cell_type": "code",
      "metadata": {
        "id": "q7FzTli3UhuU"
      },
      "source": [
        "L = tf.add(T * present_error, lambda_ * (1.0 - T) * absent_error,\n",
        "           name=\"L\")"
      ],
      "execution_count": null,
      "outputs": []
    },
    {
      "cell_type": "markdown",
      "metadata": {
        "id": "wTajbE_fUhuV"
      },
      "source": [
        "Now we can sum the digit losses for each instance ($L_0 + L_1 + \\cdots + L_9$), and compute the mean over all instances. This gives us the final margin loss:"
      ]
    },
    {
      "cell_type": "code",
      "metadata": {
        "id": "d3f2zzodUhuV"
      },
      "source": [
        "margin_loss = tf.reduce_mean(tf.reduce_sum(L, axis=1), name=\"margin_loss\")"
      ],
      "execution_count": null,
      "outputs": []
    },
    {
      "cell_type": "markdown",
      "metadata": {
        "id": "NfbnwO9AUhuV"
      },
      "source": [
        "# Reconstruction"
      ]
    },
    {
      "cell_type": "markdown",
      "metadata": {
        "id": "wkSXmfDOUhuV"
      },
      "source": [
        "Now let's add a decoder network on top of the capsule network. It is a regular 3-layer fully connected neural network which will learn to reconstruct the input images based on the output of the capsule network. This will force the capsule network to preserve all the information required to reconstruct the digits, across the whole network. This constraint regularizes the model: it reduces the risk of overfitting the training set, and it helps generalize to new digits."
      ]
    },
    {
      "cell_type": "markdown",
      "metadata": {
        "id": "nuOCL4onUhuV"
      },
      "source": [
        "## Mask"
      ]
    },
    {
      "cell_type": "markdown",
      "metadata": {
        "id": "WgFhxiQrUhuV"
      },
      "source": [
        "The paper mentions that during training, instead of sending all the outputs of the capsule network to the decoder network, we must send only the output vector of the capsule that corresponds to the target digit. All the other output vectors must be masked out. At inference time, we must mask all output vectors except for the longest one, i.e., the one that corresponds to the predicted digit. You can see this in the paper's figure 2 (at 18:15 in the video): all output vectors are masked out, except for the reconstruction target's output vector."
      ]
    },
    {
      "cell_type": "markdown",
      "metadata": {
        "id": "bZ0J4HrwUhuV"
      },
      "source": [
        "We need a placeholder to tell TensorFlow whether we want to mask the output vectors based on the labels (`True`) or on the predictions (`False`, the default):"
      ]
    },
    {
      "cell_type": "code",
      "metadata": {
        "id": "j555dLdQUhuV"
      },
      "source": [
        "mask_with_labels = tf.placeholder_with_default(False, shape=(),\n",
        "                                               name=\"mask_with_labels\")"
      ],
      "execution_count": null,
      "outputs": []
    },
    {
      "cell_type": "markdown",
      "metadata": {
        "id": "hVAIwxl3UhuV"
      },
      "source": [
        "Now let's use `tf.cond()` to define the reconstruction targets as the labels `y` if `mask_with_labels` is `True`, or `y_pred` otherwise."
      ]
    },
    {
      "cell_type": "code",
      "metadata": {
        "id": "hEPFlgQ0UhuV"
      },
      "source": [
        "reconstruction_targets = tf.cond(mask_with_labels, # condition\n",
        "                                 lambda: y,        # if True\n",
        "                                 lambda: y_pred,   # if False\n",
        "                                 name=\"reconstruction_targets\")"
      ],
      "execution_count": null,
      "outputs": []
    },
    {
      "cell_type": "markdown",
      "metadata": {
        "id": "OIqV4ptZUhuV"
      },
      "source": [
        "Note that the `tf.cond()` function expects the if-True and if-False tensors to be passed _via_ functions: these functions will be called just once during the graph construction phase (not during the execution phase), similar to `tf.while_loop()`. This allows TensorFlow to add the necessary operations to handle the conditional evaluation of the if-True or if-False tensors. However, in our case, the tensors `y` and `y_pred` are already created by the time we call `tf.cond()`, so unfortunately TensorFlow will consider both `y` and `y_pred` to be dependencies of the `reconstruction_targets` tensor. The `reconstruction_targets` tensor will end up with the correct value, but:\n",
        "1. whenever we evaluate a tensor that depends on `reconstruction_targets`, the `y_pred` tensor will be evaluated (even if `mask_with_layers` is `True`). This is not a big deal because computing `y_pred` adds no computing overhead during training, since we need it anyway to compute the margin loss. And during testing, if we are doing classification, we won't need reconstructions, so `reconstruction_targets` won't be evaluated at all.\n",
        "2. we will always need to feed a value for the `y` placeholder (even if `mask_with_layers` is `False`). This is a bit annoying, but we can pass an empty array, because TensorFlow won't use it anyway (it just does not know it yet when it checks for dependencies)."
      ]
    },
    {
      "cell_type": "markdown",
      "metadata": {
        "id": "25gEwhShUhuW"
      },
      "source": [
        "Now that we have the reconstruction targets, let's create the reconstruction mask. It should be equal to 1.0 for the target class, and 0.0 for the other classes, for each instance. For this we can just use the `tf.one_hot()` function:"
      ]
    },
    {
      "cell_type": "code",
      "metadata": {
        "id": "73c1t86aUhuW"
      },
      "source": [
        "reconstruction_mask = tf.one_hot(reconstruction_targets,\n",
        "                                 depth=caps2_n_caps,\n",
        "                                 name=\"reconstruction_mask\")"
      ],
      "execution_count": null,
      "outputs": []
    },
    {
      "cell_type": "markdown",
      "metadata": {
        "id": "OuGA7jYTUhuW"
      },
      "source": [
        "Let's check the shape of `reconstruction_mask`:"
      ]
    },
    {
      "cell_type": "code",
      "metadata": {
        "id": "YQ7IuBK3UhuW"
      },
      "source": [
        "reconstruction_mask"
      ],
      "execution_count": null,
      "outputs": []
    },
    {
      "cell_type": "markdown",
      "metadata": {
        "id": "OF8npXquUhuW"
      },
      "source": [
        "Let's compare this to the shape of `caps2_output`:"
      ]
    },
    {
      "cell_type": "code",
      "metadata": {
        "id": "th6OVFukUhuW"
      },
      "source": [
        "caps2_output"
      ],
      "execution_count": null,
      "outputs": []
    },
    {
      "cell_type": "markdown",
      "metadata": {
        "id": "owm7oC9wUhuW"
      },
      "source": [
        "Mmh, its shape is (_batch size_, 1, 10, 16, 1). We want to multiply it by the `reconstruction_mask`, but the shape of the `reconstruction_mask` is (_batch size_, 10). We must reshape it to (_batch size_, 1, 10, 1, 1) to make multiplication possible:"
      ]
    },
    {
      "cell_type": "code",
      "metadata": {
        "id": "tsdPGtIuUhuW"
      },
      "source": [
        "reconstruction_mask_reshaped = tf.reshape(\n",
        "    reconstruction_mask, [-1, 1, caps2_n_caps, 1, 1],\n",
        "    name=\"reconstruction_mask_reshaped\")"
      ],
      "execution_count": null,
      "outputs": []
    },
    {
      "cell_type": "markdown",
      "metadata": {
        "id": "cXs8aqOzUhuX"
      },
      "source": [
        "At last! We can apply the mask:"
      ]
    },
    {
      "cell_type": "code",
      "metadata": {
        "id": "nczYxFZPUhuX"
      },
      "source": [
        "caps2_output_masked = tf.multiply(\n",
        "    caps2_output, reconstruction_mask_reshaped,\n",
        "    name=\"caps2_output_masked\")"
      ],
      "execution_count": null,
      "outputs": []
    },
    {
      "cell_type": "code",
      "metadata": {
        "id": "WtWC1n6AUhuX"
      },
      "source": [
        "caps2_output_masked"
      ],
      "execution_count": null,
      "outputs": []
    },
    {
      "cell_type": "markdown",
      "metadata": {
        "id": "dHtdhw__UhuX"
      },
      "source": [
        "One last reshape operation to flatten the decoder's inputs:"
      ]
    },
    {
      "cell_type": "code",
      "metadata": {
        "id": "6wOG1Xc_UhuX"
      },
      "source": [
        "decoder_input = tf.reshape(caps2_output_masked,\n",
        "                           [-1, caps2_n_caps * caps2_n_dims],\n",
        "                           name=\"decoder_input\")"
      ],
      "execution_count": null,
      "outputs": []
    },
    {
      "cell_type": "markdown",
      "metadata": {
        "id": "6LaAnwJxUhuY"
      },
      "source": [
        "This gives us an array of shape (_batch size_, 160):"
      ]
    },
    {
      "cell_type": "code",
      "metadata": {
        "id": "fJyA4HGOUhuY"
      },
      "source": [
        "decoder_input"
      ],
      "execution_count": null,
      "outputs": []
    },
    {
      "cell_type": "markdown",
      "metadata": {
        "id": "McMxnwLiUhuY"
      },
      "source": [
        "## Decoder"
      ]
    },
    {
      "cell_type": "markdown",
      "metadata": {
        "id": "9ISdTGs-UhuY"
      },
      "source": [
        "Now let's build the decoder. It's quite simple: two dense (fully connected) ReLU layers followed by a dense output sigmoid layer:"
      ]
    },
    {
      "cell_type": "code",
      "metadata": {
        "id": "zK6MwEH2UhuY"
      },
      "source": [
        "n_hidden1 = 512\n",
        "n_hidden2 = 1024\n",
        "n_output = 28 * 28"
      ],
      "execution_count": null,
      "outputs": []
    },
    {
      "cell_type": "code",
      "metadata": {
        "id": "LwpQOCkTUhuY"
      },
      "source": [
        "with tf.name_scope(\"decoder\"):\n",
        "    hidden1 = tf.layers.dense(decoder_input, n_hidden1,\n",
        "                              activation=tf.nn.relu,\n",
        "                              name=\"hidden1\")\n",
        "    hidden2 = tf.layers.dense(hidden1, n_hidden2,\n",
        "                              activation=tf.nn.relu,\n",
        "                              name=\"hidden2\")\n",
        "    decoder_output = tf.layers.dense(hidden2, n_output,\n",
        "                                     activation=tf.nn.sigmoid,\n",
        "                                     name=\"decoder_output\")"
      ],
      "execution_count": null,
      "outputs": []
    },
    {
      "cell_type": "markdown",
      "metadata": {
        "id": "3tiSzinZUhuY"
      },
      "source": [
        "## Reconstruction Loss"
      ]
    },
    {
      "cell_type": "markdown",
      "metadata": {
        "id": "_I-zEwdDUhuZ"
      },
      "source": [
        "Now let's compute the reconstruction loss. It is just the squared difference between the input image and the reconstructed image:"
      ]
    },
    {
      "cell_type": "code",
      "metadata": {
        "id": "-j0bTLhVUhuZ"
      },
      "source": [
        "X_flat = tf.reshape(X, [-1, n_output], name=\"X_flat\")\n",
        "squared_difference = tf.square(X_flat - decoder_output,\n",
        "                               name=\"squared_difference\")\n",
        "reconstruction_loss = tf.reduce_mean(squared_difference,\n",
        "                                    name=\"reconstruction_loss\")"
      ],
      "execution_count": null,
      "outputs": []
    },
    {
      "cell_type": "markdown",
      "metadata": {
        "id": "E06LJT8uUhuZ"
      },
      "source": [
        "## Final Loss"
      ]
    },
    {
      "cell_type": "markdown",
      "metadata": {
        "id": "YP1M0YH6UhuZ"
      },
      "source": [
        "The final loss is the sum of the margin loss and the reconstruction loss (scaled down by a factor of 0.0005 to ensure the margin loss dominates training):"
      ]
    },
    {
      "cell_type": "code",
      "metadata": {
        "id": "LZSTigKCUhuZ"
      },
      "source": [
        "alpha = 0.0005\n",
        "\n",
        "loss = tf.add(margin_loss, alpha * reconstruction_loss, name=\"loss\")"
      ],
      "execution_count": null,
      "outputs": []
    },
    {
      "cell_type": "markdown",
      "metadata": {
        "id": "vWj-LCjGUhua"
      },
      "source": [
        "# Final Touches"
      ]
    },
    {
      "cell_type": "markdown",
      "metadata": {
        "id": "yr0RJr42Uhua"
      },
      "source": [
        "## Accuracy"
      ]
    },
    {
      "cell_type": "markdown",
      "metadata": {
        "id": "wevhfuVKUhua"
      },
      "source": [
        "To measure our model's accuracy, we need to count the number of instances that are properly classified. For this, we can simply compare `y` and `y_pred`, convert the boolean value to a float32 (0.0 for False, 1.0 for True), and compute the mean over all the instances:"
      ]
    },
    {
      "cell_type": "code",
      "metadata": {
        "id": "P_heiJ9OUhua"
      },
      "source": [
        "correct = tf.equal(y, y_pred, name=\"correct\")\n",
        "accuracy = tf.reduce_mean(tf.cast(correct, tf.float32), name=\"accuracy\")"
      ],
      "execution_count": null,
      "outputs": []
    },
    {
      "cell_type": "markdown",
      "metadata": {
        "id": "7Cc3lKY8Uhua"
      },
      "source": [
        "## Training Operations"
      ]
    },
    {
      "cell_type": "markdown",
      "metadata": {
        "id": "0Xc72r_vUhua"
      },
      "source": [
        "The paper mentions that the authors used the Adam optimizer with TensorFlow's default parameters:"
      ]
    },
    {
      "cell_type": "code",
      "metadata": {
        "id": "D8kRsPlMUhua"
      },
      "source": [
        "optimizer = tf.train.AdamOptimizer()\n",
        "training_op = optimizer.minimize(loss, name=\"training_op\")"
      ],
      "execution_count": null,
      "outputs": []
    },
    {
      "cell_type": "markdown",
      "metadata": {
        "id": "frY6VNEOUhua"
      },
      "source": [
        "## Init and Saver"
      ]
    },
    {
      "cell_type": "markdown",
      "metadata": {
        "id": "5E9SMl1hUhub"
      },
      "source": [
        "And let's add the usual variable initializer, as well as a `Saver`:"
      ]
    },
    {
      "cell_type": "code",
      "metadata": {
        "id": "IHKZoCtxUhub"
      },
      "source": [
        "init = tf.global_variables_initializer()\n",
        "saver = tf.train.Saver()"
      ],
      "execution_count": null,
      "outputs": []
    },
    {
      "cell_type": "markdown",
      "metadata": {
        "id": "rO8tySVrUhub"
      },
      "source": [
        "And... we're done with the construction phase! Please take a moment to celebrate. :)"
      ]
    },
    {
      "cell_type": "markdown",
      "metadata": {
        "id": "PDcSuXSLUhub"
      },
      "source": [
        "# Training"
      ]
    },
    {
      "cell_type": "markdown",
      "metadata": {
        "id": "WkcX_Jb9Uhub"
      },
      "source": [
        "Training our capsule network is pretty standard. For simplicity, we won't do any fancy hyperparameter tuning, dropout or anything, we will just run the training operation over and over again, displaying the loss, and at the end of each epoch, measure the accuracy on the validation set, display it, and save the model if the validation loss is the lowest seen found so far (this is a basic way to implement early stopping, without actually stopping). Hopefully the code should be self-explanatory, but here are a few details to note:\n",
        "* if a checkpoint file exists, it will be restored (this makes it possible to interrupt training, then restart it later from the last checkpoint),\n",
        "* we must not forget to feed `mask_with_labels=True` during training,\n",
        "* during testing, we let `mask_with_labels` default to `False` (but we still feed the labels since they are required to compute the accuracy),\n",
        "* the images loaded _via_ `mnist.train.next_batch()` are represented as `float32` arrays of shape \\[784\\], but the input placeholder `X` expects a `float32` array of shape \\[28, 28, 1\\], so we must reshape the images before we feed them to our model,\n",
        "* we evaluate the model's loss and accuracy on the full validation set (5,000 instances). To view progress and support systems that don't have a lot of RAM, the code evaluates the loss and accuracy on one batch at a time, and computes the mean loss and mean accuracy at the end.\n",
        "\n",
        "*Warning*: if you don't have a GPU, training will take a very long time (at least a few hours). With a GPU, it should take just a few minutes per epoch (e.g., 6 minutes on an NVidia GeForce GTX 1080Ti)."
      ]
    },
    {
      "cell_type": "code",
      "metadata": {
        "id": "DCjnCo4GUhub",
        "outputId": "6e0ba91b-c647-4024-aac8-6e37f8c621da",
        "colab": {
          "base_uri": "https://localhost:8080/"
        }
      },
      "source": [
        "n_epochs = 10\n",
        "batch_size = 50\n",
        "restore_checkpoint = True\n",
        "\n",
        "n_iterations_per_epoch = mnist.train.num_examples // batch_size\n",
        "n_iterations_validation = mnist.validation.num_examples // batch_size\n",
        "best_loss_val = np.infty\n",
        "checkpoint_path = \"./my_capsule_network\"\n",
        "\n",
        "with tf.Session() as sess:\n",
        "    if restore_checkpoint and tf.train.checkpoint_exists(checkpoint_path):\n",
        "        saver.restore(sess, checkpoint_path)\n",
        "    else:\n",
        "        init.run()\n",
        "\n",
        "    for epoch in range(n_epochs):\n",
        "        for iteration in range(1, n_iterations_per_epoch + 1):\n",
        "            X_batch, y_batch = mnist.train.next_batch(batch_size)\n",
        "            # Run the training operation and measure the loss:\n",
        "            _, loss_train = sess.run(\n",
        "                [training_op, loss],\n",
        "                feed_dict={X: X_batch.reshape([-1, 28, 28, 1]),\n",
        "                           y: y_batch,\n",
        "                           mask_with_labels: True})\n",
        "            print(\"\\rIteration: {}/{} ({:.1f}%)  Loss: {:.5f}\".format(\n",
        "                      iteration, n_iterations_per_epoch,\n",
        "                      iteration * 100 / n_iterations_per_epoch,\n",
        "                      loss_train),\n",
        "                  end=\"\")\n",
        "\n",
        "        # At the end of each epoch,\n",
        "        # measure the validation loss and accuracy:\n",
        "        loss_vals = []\n",
        "        acc_vals = []\n",
        "        for iteration in range(1, n_iterations_validation + 1):\n",
        "            X_batch, y_batch = mnist.validation.next_batch(batch_size)\n",
        "            loss_val, acc_val = sess.run(\n",
        "                    [loss, accuracy],\n",
        "                    feed_dict={X: X_batch.reshape([-1, 28, 28, 1]),\n",
        "                               y: y_batch})\n",
        "            loss_vals.append(loss_val)\n",
        "            acc_vals.append(acc_val)\n",
        "            print(\"\\rEvaluating the model: {}/{} ({:.1f}%)\".format(\n",
        "                      iteration, n_iterations_validation,\n",
        "                      iteration * 100 / n_iterations_validation),\n",
        "                  end=\" \" * 10)\n",
        "        loss_val = np.mean(loss_vals)\n",
        "        acc_val = np.mean(acc_vals)\n",
        "        print(\"\\rEpoch: {}  Val accuracy: {:.4f}%  Loss: {:.6f}{}\".format(\n",
        "            epoch + 1, acc_val * 100, loss_val,\n",
        "            \" (improved)\" if loss_val < best_loss_val else \"\"))\n",
        "\n",
        "        # And save the model if it improved:\n",
        "        if loss_val < best_loss_val:\n",
        "            save_path = saver.save(sess, checkpoint_path)\n",
        "            best_loss_val = loss_val"
      ],
      "execution_count": 71,
      "outputs": [
        {
          "output_type": "stream",
          "name": "stdout",
          "text": [
            "WARNING:tensorflow:From <ipython-input-71-3ed238f5e9db>:11: checkpoint_exists (from tensorflow.python.training.checkpoint_management) is deprecated and will be removed in a future version.\n",
            "Instructions for updating:\n",
            "Use standard file APIs to check for files with this prefix.\n",
            "Epoch: 1  Val accuracy: 98.8800%  Loss: 0.015365 (improved)\n",
            "Epoch: 2  Val accuracy: 99.1800%  Loss: 0.010227 (improved)\n",
            "Epoch: 3  Val accuracy: 99.3200%  Loss: 0.008500 (improved)\n",
            "Epoch: 4  Val accuracy: 99.3400%  Loss: 0.008522\n",
            "Epoch: 5  Val accuracy: 99.3000%  Loss: 0.007645 (improved)\n",
            "Epoch: 6  Val accuracy: 99.1200%  Loss: 0.008356\n",
            "Epoch: 7  Val accuracy: 99.3000%  Loss: 0.007744\n",
            "Epoch: 8  Val accuracy: 99.3400%  Loss: 0.007302 (improved)\n",
            "Epoch: 9  Val accuracy: 99.2800%  Loss: 0.008085\n",
            "Epoch: 10  Val accuracy: 99.3000%  Loss: 0.007672\n"
          ]
        }
      ]
    },
    {
      "cell_type": "markdown",
      "metadata": {
        "id": "eL6BqR0OUhub"
      },
      "source": [
        "Training is finished, we reached over 99.4% accuracy on the validation set after just 5 epochs, things are looking good. Now let's evaluate the model on the test set."
      ]
    },
    {
      "cell_type": "markdown",
      "metadata": {
        "id": "n-YW6kAcUhub"
      },
      "source": [
        "# Evaluation"
      ]
    },
    {
      "cell_type": "code",
      "metadata": {
        "id": "jYqf2CbvUhub",
        "outputId": "a58266fa-074e-4403-8806-f09284aa42fb",
        "colab": {
          "base_uri": "https://localhost:8080/"
        }
      },
      "source": [
        "n_iterations_test = mnist.test.num_examples // batch_size\n",
        "\n",
        "with tf.Session() as sess:\n",
        "    saver.restore(sess, checkpoint_path)\n",
        "\n",
        "    loss_tests = []\n",
        "    acc_tests = []\n",
        "    for iteration in range(1, n_iterations_test + 1):\n",
        "        X_batch, y_batch = mnist.test.next_batch(batch_size)\n",
        "        loss_test, acc_test = sess.run(\n",
        "                [loss, accuracy],\n",
        "                feed_dict={X: X_batch.reshape([-1, 28, 28, 1]),\n",
        "                           y: y_batch})\n",
        "        loss_tests.append(loss_test)\n",
        "        acc_tests.append(acc_test)\n",
        "        print(\"\\rEvaluating the model: {}/{} ({:.1f}%)\".format(\n",
        "                  iteration, n_iterations_test,\n",
        "                  iteration * 100 / n_iterations_test),\n",
        "              end=\" \" * 10)\n",
        "    loss_test = np.mean(loss_tests)\n",
        "    acc_test = np.mean(acc_tests)\n",
        "    print(\"\\rFinal test accuracy: {:.4f}%  Loss: {:.6f}\".format(\n",
        "        acc_test * 100, loss_test))"
      ],
      "execution_count": 72,
      "outputs": [
        {
          "output_type": "stream",
          "name": "stdout",
          "text": [
            "INFO:tensorflow:Restoring parameters from ./my_capsule_network\n",
            "Final test accuracy: 99.3000%  Loss: 0.007722\n"
          ]
        }
      ]
    },
    {
      "cell_type": "markdown",
      "metadata": {
        "id": "Z5_zGSYaUhuc"
      },
      "source": [
        "We reach 99.53% accuracy on the test set. Pretty nice. :)"
      ]
    },
    {
      "cell_type": "markdown",
      "metadata": {
        "id": "d4onJY2lUhuc"
      },
      "source": [
        "# Predictions"
      ]
    },
    {
      "cell_type": "markdown",
      "metadata": {
        "id": "PFGxyRnMUhuc"
      },
      "source": [
        "Now let's make some predictions! We first fix a few images from the test set, then we start a session, restore the trained model, evaluate `caps2_output` to get the capsule network's output vectors, `decoder_output` to get the reconstructions, and `y_pred` to get the class predictions:"
      ]
    },
    {
      "cell_type": "code",
      "metadata": {
        "id": "mlk50huPUhuc",
        "outputId": "9b675d70-6fee-48b7-bd78-fe0dad4df473",
        "colab": {
          "base_uri": "https://localhost:8080/"
        }
      },
      "source": [
        "n_samples = 5\n",
        "\n",
        "sample_images = mnist.test.images[:n_samples].reshape([-1, 28, 28, 1])\n",
        "\n",
        "with tf.Session() as sess:\n",
        "    saver.restore(sess, checkpoint_path)\n",
        "    caps2_output_value, decoder_output_value, y_pred_value = sess.run(\n",
        "            [caps2_output, decoder_output, y_pred],\n",
        "            feed_dict={X: sample_images,\n",
        "                       y: np.array([], dtype=np.int64)})"
      ],
      "execution_count": 73,
      "outputs": [
        {
          "output_type": "stream",
          "name": "stdout",
          "text": [
            "INFO:tensorflow:Restoring parameters from ./my_capsule_network\n"
          ]
        }
      ]
    },
    {
      "cell_type": "markdown",
      "metadata": {
        "id": "wwhVHNDUUhuc"
      },
      "source": [
        "Note: we feed `y` with an empty array, but TensorFlow will not use it, as explained earlier."
      ]
    },
    {
      "cell_type": "markdown",
      "metadata": {
        "id": "4zxgzVBuUhuc"
      },
      "source": [
        "And now let's plot the images and their labels, followed by the corresponding reconstructions and predictions:"
      ]
    },
    {
      "cell_type": "code",
      "metadata": {
        "id": "nvPxId0EUhuc",
        "outputId": "2e10db18-392b-4717-a919-6e2e0b5993c5",
        "colab": {
          "base_uri": "https://localhost:8080/",
          "height": 269
        }
      },
      "source": [
        "sample_images = sample_images.reshape(-1, 28, 28)\n",
        "reconstructions = decoder_output_value.reshape([-1, 28, 28])\n",
        "\n",
        "plt.figure(figsize=(n_samples * 2, 3))\n",
        "for index in range(n_samples):\n",
        "    plt.subplot(1, n_samples, index + 1)\n",
        "    plt.imshow(sample_images[index], cmap=\"binary\")\n",
        "    plt.title(\"Label:\" + str(mnist.test.labels[index]))\n",
        "    plt.axis(\"off\")\n",
        "\n",
        "plt.show()\n",
        "\n",
        "plt.figure(figsize=(n_samples * 2, 3))\n",
        "for index in range(n_samples):\n",
        "    plt.subplot(1, n_samples, index + 1)\n",
        "    plt.title(\"Predicted:\" + str(y_pred_value[index]))\n",
        "    plt.imshow(reconstructions[index], cmap=\"binary\")\n",
        "    plt.axis(\"off\")\n",
        "    \n",
        "plt.show()\n"
      ],
      "execution_count": 74,
      "outputs": [
        {
          "output_type": "display_data",
          "data": {
            "image/png": "[encoded data removed]",
            "text/plain": [
              "<Figure size 720x216 with 5 Axes>"
            ]
          },
          "metadata": {
            "needs_background": "light"
          }
        },
        {
          "output_type": "display_data",
          "data": {
            "image/png": "[encoded data removed]",
            "text/plain": [
              "<Figure size 720x216 with 5 Axes>"
            ]
          },
          "metadata": {
            "needs_background": "light"
          }
        }
      ]
    },
    {
      "cell_type": "markdown",
      "metadata": {
        "id": "9upGoA8qUhud"
      },
      "source": [
        "The predictions are all correct, and the reconstructions look great. Hurray!"
      ]
    },
    {
      "cell_type": "markdown",
      "metadata": {
        "id": "tT1stEZbUhud"
      },
      "source": [
        "# Interpreting the Output Vectors"
      ]
    },
    {
      "cell_type": "markdown",
      "metadata": {
        "id": "euUibFIgUhud"
      },
      "source": [
        "Let's tweak the output vectors to see what their pose parameters represent."
      ]
    },
    {
      "cell_type": "markdown",
      "metadata": {
        "id": "rkB4q9YoUhud"
      },
      "source": [
        "First, let's check the shape of the `cap2_output_value` NumPy array:"
      ]
    },
    {
      "cell_type": "code",
      "metadata": {
        "id": "cm6XyxQQUhud",
        "outputId": "2b61b487-d91a-4e37-b66f-531b15804e7b",
        "colab": {
          "base_uri": "https://localhost:8080/"
        }
      },
      "source": [
        "caps2_output_value.shape"
      ],
      "execution_count": 75,
      "outputs": [
        {
          "output_type": "execute_result",
          "data": {
            "text/plain": [
              "(5, 1, 10, 16, 1)"
            ]
          },
          "metadata": {},
          "execution_count": 75
        }
      ]
    },
    {
      "cell_type": "markdown",
      "metadata": {
        "id": "n8d4pECKUhud"
      },
      "source": [
        "Let's create a function that will tweak each of the 16 pose parameters (dimensions) in all output vectors. Each tweaked output vector will be identical to the original output vector, except that one of its pose parameters will be incremented by a value varying from -0.5 to 0.5. By default there will be 11 steps (-0.5, -0.4, ..., +0.4, +0.5). This function will return an array of shape (_tweaked pose parameters_=16, _steps_=11, _batch size_=5, 1, 10, 16, 1):"
      ]
    },
    {
      "cell_type": "code",
      "metadata": {
        "id": "sjG-8E7XUhud"
      },
      "source": [
        "def tweak_pose_parameters(output_vectors, min=-0.5, max=0.5, n_steps=11):\n",
        "    steps = np.linspace(min, max, n_steps) # -0.25, -0.15, ..., +0.25\n",
        "    pose_parameters = np.arange(caps2_n_dims) # 0, 1, ..., 15\n",
        "    tweaks = np.zeros([caps2_n_dims, n_steps, 1, 1, 1, caps2_n_dims, 1])\n",
        "    tweaks[pose_parameters, :, 0, 0, 0, pose_parameters, 0] = steps\n",
        "    output_vectors_expanded = output_vectors[np.newaxis, np.newaxis]\n",
        "    return tweaks + output_vectors_expanded"
      ],
      "execution_count": 76,
      "outputs": []
    },
    {
      "cell_type": "markdown",
      "metadata": {
        "id": "ikGleV-wUhud"
      },
      "source": [
        "Let's compute all the tweaked output vectors and reshape the result to (_parameters_×_steps_×_instances_, 1, 10, 16, 1) so we can feed the array to the decoder:"
      ]
    },
    {
      "cell_type": "code",
      "metadata": {
        "id": "uBy4mK6MUhue"
      },
      "source": [
        "n_steps = 11\n",
        "\n",
        "tweaked_vectors = tweak_pose_parameters(caps2_output_value, n_steps=n_steps)\n",
        "tweaked_vectors_reshaped = tweaked_vectors.reshape(\n",
        "    [-1, 1, caps2_n_caps, caps2_n_dims, 1])"
      ],
      "execution_count": 77,
      "outputs": []
    },
    {
      "cell_type": "markdown",
      "metadata": {
        "id": "ILRWYH16Uhue"
      },
      "source": [
        "Now let's feed these tweaked output vectors to the decoder and get the reconstructions it produces:"
      ]
    },
    {
      "cell_type": "code",
      "metadata": {
        "id": "-wnbnNpDUhue",
        "outputId": "d0747feb-c3af-4d4e-84a0-45c61ded08a1",
        "colab": {
          "base_uri": "https://localhost:8080/"
        }
      },
      "source": [
        "tweak_labels = np.tile(mnist.test.labels[:n_samples], caps2_n_dims * n_steps)\n",
        "\n",
        "with tf.Session() as sess:\n",
        "    saver.restore(sess, checkpoint_path)\n",
        "    decoder_output_value = sess.run(\n",
        "            decoder_output,\n",
        "            feed_dict={caps2_output: tweaked_vectors_reshaped,\n",
        "                       mask_with_labels: True,\n",
        "                       y: tweak_labels})"
      ],
      "execution_count": 78,
      "outputs": [
        {
          "output_type": "stream",
          "name": "stdout",
          "text": [
            "INFO:tensorflow:Restoring parameters from ./my_capsule_network\n"
          ]
        }
      ]
    },
    {
      "cell_type": "markdown",
      "metadata": {
        "id": "P5WJ4hVSUhue"
      },
      "source": [
        "Let's reshape the decoder's output so we can easily iterate on the output dimension, the tweak steps, and the instances:"
      ]
    },
    {
      "cell_type": "code",
      "metadata": {
        "id": "h5Bxo0CpUhue"
      },
      "source": [
        "tweak_reconstructions = decoder_output_value.reshape(\n",
        "        [caps2_n_dims, n_steps, n_samples, 28, 28])"
      ],
      "execution_count": 79,
      "outputs": []
    },
    {
      "cell_type": "markdown",
      "metadata": {
        "id": "agUwRFleUhue"
      },
      "source": [
        "Lastly, let's plot all the reconstructions, for the first 3 output dimensions, for each tweaking step (column) and each digit (row):"
      ]
    },
    {
      "cell_type": "code",
      "metadata": {
        "id": "-6aY76IjUhue",
        "outputId": "16151279-31ec-4178-fca9-677fa9706476",
        "colab": {
          "base_uri": "https://localhost:8080/",
          "height": 656
        }
      },
      "source": [
        "for dim in range(3):\n",
        "    print(\"Tweaking output dimension #{}\".format(dim))\n",
        "    plt.figure(figsize=(n_steps / 1.2, n_samples / 1.5))\n",
        "    for row in range(n_samples):\n",
        "        for col in range(n_steps):\n",
        "            plt.subplot(n_samples, n_steps, row * n_steps + col + 1)\n",
        "            plt.imshow(tweak_reconstructions[dim, col, row], cmap=\"binary\")\n",
        "            plt.axis(\"off\")\n",
        "    plt.show()"
      ],
      "execution_count": 80,
      "outputs": [
        {
          "output_type": "stream",
          "name": "stdout",
          "text": [
            "Tweaking output dimension #0\n"
          ]
        },
        {
          "output_type": "display_data",
          "data": {
            "image/png": "[encoded data removed]",
            "text/plain": [
              "<Figure size 660x240 with 55 Axes>"
            ]
          },
          "metadata": {
            "needs_background": "light"
          }
        },
        {
          "output_type": "stream",
          "name": "stdout",
          "text": [
            "Tweaking output dimension #1\n"
          ]
        },
        {
          "output_type": "display_data",
          "data": {
            "image/png": "[encoded data removed]",
            "text/plain": [
              "<Figure size 660x240 with 55 Axes>"
            ]
          },
          "metadata": {
            "needs_background": "light"
          }
        },
        {
          "output_type": "stream",
          "name": "stdout",
          "text": [
            "Tweaking output dimension #2\n"
          ]
        },
        {
          "output_type": "display_data",
          "data": {
            "image/png": "[encoded data removed]",
            "text/plain": [
              "<Figure size 660x240 with 55 Axes>"
            ]
          },
          "metadata": {
            "needs_background": "light"
          }
        }
      ]
    },
    {
      "cell_type": "markdown",
      "metadata": {
        "id": "CDE3VOWWUhue"
      },
      "source": [
        "# Conclusion"
      ]
    },
    {
      "cell_type": "markdown",
      "metadata": {
        "id": "MkwN-F-lUhue"
      },
      "source": [
        "I tried to make the code in this notebook as flat and linear as possible, to make it easier to follow, but of course in practice you would want to wrap the code in nice reusable functions and classes. For example, you could try implementing your own `PrimaryCapsuleLayer`, and `DenseRoutingCapsuleLayer` classes, with parameters for the number of capsules, the number of routing iterations, whether to use a dynamic loop or a static loop, and so on. For an example a modular implementation of Capsule Networks based on TensorFlow, take a look at the [CapsNet-TensorFlow](https://github.com/naturomics/CapsNet-Tensorflow) project.\n",
        "\n",
        "That's all for today, I hope you enjoyed this notebook!"
      ]
    },
    {
      "cell_type": "code",
      "metadata": {
        "id": "TM5jeBfRUhue"
      },
      "source": [
        ""
      ],
      "execution_count": 80,
      "outputs": []
    }
  ]
}